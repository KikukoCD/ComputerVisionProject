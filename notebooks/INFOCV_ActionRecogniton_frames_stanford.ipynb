{
 "nbformat": 4,
 "nbformat_minor": 0,
 "metadata": {
  "colab": {
   "name": "INFOCV_ActionRecogniton_frames_stanford.ipynb",
   "provenance": [],
   "collapsed_sections": []
  },
  "kernelspec": {
   "name": "python3",
   "display_name": "Python 3"
  },
  "language_info": {
   "name": "python"
  },
  "accelerator": "GPU"
 },
 "cells": [
  {
   "cell_type": "code",
   "metadata": {
    "id": "c5hcihlK9PwZ"
   },
   "source": [
    "!nvidia-smi"
   ],
   "execution_count": null,
   "outputs": []
  },
  {
   "cell_type": "code",
   "metadata": {
    "id": "tU_WwR2DeJpI"
   },
   "source": [
    "#@title WANDB Login { run: \"auto\", display-mode: \"form\" }\n",
    "wandbapi = \"\" #@param {type:\"string\"}\n",
    "!pip install wandb > /dev/null\n",
    "!wandb login \"$wandbapi\"\n",
    "%env USE_WANDB=1"
   ],
   "execution_count": null,
   "outputs": []
  },
  {
   "cell_type": "code",
   "metadata": {
    "id": "_6JrPNVUYjZu"
   },
   "source": [
    "%cd /content/INFOMCV/\n",
    "!git pull origin master"
   ],
   "execution_count": null,
   "outputs": []
  },
  {
   "cell_type": "code",
   "metadata": {
    "id": "uoquSwALcOuI"
   },
   "source": [
    "!pip install -r requirements.txt > /dev/null"
   ],
   "execution_count": null,
   "outputs": []
  },
  {
   "cell_type": "code",
   "metadata": {
    "cellView": "form",
    "id": "NB15LtU0sbBc"
   },
   "source": [
    "#@title Load cached dataset from google drive\n",
    "drive_project_root = \"MyDrive/Colab/INFOCV\" #@param {type:\"string\"}\n",
    "dataset_name = \"stanford40_augmented.tar.gz\" #@param {type:\"string\"}\n",
    "import os\n",
    "from google.colab import drive\n",
    "drive.mount('/content/drive')\n",
    "\n",
    "drive_dataset_dir = os.path.join('/content/drive', drive_project_root)\n",
    "drive_dataset_path = os.path.join('/content/drive', drive_project_root, dataset_name)\n",
    "\n",
    "!mkdir -p $drive_dataset_dir\n",
    "!test -e $drive_dataset_path \\\n",
    "  && echo 'Extracting the cached dataset' \\\n",
    "  && cp $drive_dataset_path $dataset_name \\\n",
    "  && tar -xzf $dataset_name"
   ],
   "execution_count": null,
   "outputs": []
  },
  {
   "cell_type": "code",
   "metadata": {
    "id": "G7yB_NEdbS4W"
   },
   "source": [
    "# Download the datasets\n",
    "!test ! -e $drive_dataset_path \\\n",
    "  && bash datasets.sh > /dev/null"
   ],
   "execution_count": null,
   "outputs": []
  },
  {
   "cell_type": "code",
   "metadata": {
    "id": "6MYbVR-Gbqdr"
   },
   "source": [
    "# Preprocess the dataset and bake the augmentation variant\n",
    "!test ! -e $drive_dataset_path \\\n",
    "  && python preprocess.py --process_stanford=True \\\n",
    "  && python bake.py --bake_input=datasets/Stanford40/data --bake_output=datasets/Stanford40/baked --bake_optical_flow=False --augment_repeat_count=25 "
   ],
   "execution_count": null,
   "outputs": []
  },
  {
   "cell_type": "code",
   "metadata": {
    "id": "GJDXKjjPrmIp"
   },
   "source": [
    "#@title Cache the processed dataset { display-mode: \"form\" }\n",
    "dataset_dir = \"datasets/Stanford40/baked\" #@param {type:\"string\"}\n",
    "!test ! -e $drive_dataset_path \\\n",
    "  && echo 'Compressing the dataset' \\\n",
    "  && GZIP=-9 tar --totals=USR1 -czf $dataset_name $dataset_dir \\\n",
    "  && echo 'Copying cache to drive' \\\n",
    "  && cp $dataset_name $drive_dataset_path"
   ],
   "execution_count": null,
   "outputs": []
  },
  {
   "cell_type": "code",
   "metadata": {
    "id": "ZITxolD3cJOG"
   },
   "source": [
    "# %env PROFILE_TF=1\n",
    "%env WANDB_START_METHOD=thread\n",
    "!python train_frames.py"
   ],
   "execution_count": null,
   "outputs": []
  },
  {
   "cell_type": "code",
   "metadata": {
    "id": "vdj1ByjPdJPZ"
   },
   "source": [
    "%load_ext tensorboard\n",
    "# %tensorboard --logdir=logs"
   ],
   "execution_count": null,
   "outputs": []
  },
  {
   "cell_type": "code",
   "metadata": {
    "id": "3QdMqHmwv_6T"
   },
   "source": [
    ""
   ],
   "execution_count": null,
   "outputs": []
  }
 ]
}